{
  "nbformat": 4,
  "nbformat_minor": 0,
  "metadata": {
    "colab": {
      "provenance": [],
      "gpuType": "T4"
    },
    "kernelspec": {
      "name": "python3",
      "display_name": "Python 3"
    },
    "language_info": {
      "name": "python"
    },
    "accelerator": "GPU"
  },
  "cells": [
    {
      "cell_type": "markdown",
      "source": [
        "# **Parkinson's Disease Detection**\n",
        "\n",
        "**Objective:** To develop a precise and efficient system for early Parkinson's disease detection utilizing multiple deep learning models. This project aims to harness the capabilities of various deep learning architectures to analyze diverse biomarkers and clinical data, thereby enhancing diagnostic accuracy and enabling proactive healthcare interventions for improved patient outcomes."
      ],
      "metadata": {
        "id": "8Zjz06mavkEh"
      }
    },
    {
      "cell_type": "markdown",
      "source": [
        "**Importing necessary libraries**"
      ],
      "metadata": {
        "id": "YGoQmI34wfs_"
      }
    },
    {
      "cell_type": "code",
      "execution_count": null,
      "metadata": {
        "id": "IjC-wrR_5I8H"
      },
      "outputs": [],
      "source": [
        "import pandas as pd\n",
        "import numpy as np\n",
        "import matplotlib.pyplot as plt\n",
        "import seaborn as sns\n",
        "from sklearn.model_selection import train_test_split\n",
        "from sklearn.preprocessing import MinMaxScaler\n",
        "from sklearn.metrics import confusion_matrix\n",
        "from sklearn.metrics import accuracy_score, recall_score, f1_score, precision_score\n",
        "import tensorflow as tf\n",
        "import tensorflow_datasets as tfds\n",
        "from tensorflow.keras.preprocessing.image import ImageDataGenerator"
      ]
    },
    {
      "cell_type": "markdown",
      "source": [
        "**Loading dataset and defining train and test generators**"
      ],
      "metadata": {
        "id": "dshTkjgSwkQs"
      }
    },
    {
      "cell_type": "code",
      "source": [
        "image_directory = \"/content/drive/MyDrive/Parkinson datasets/Parkinson's image dataset\"\n",
        "\n",
        "datagen=ImageDataGenerator(\n",
        "    rescale=1/255.0,\n",
        "    validation_split=0.2\n",
        ")\n",
        "\n",
        "train_generator=datagen.flow_from_directory(\n",
        "    image_directory,\n",
        "    target_size=(224,224),\n",
        "    batch_size=64,\n",
        "    class_mode='binary',\n",
        "    subset='training'\n",
        ")\n",
        "\n",
        "test_generator=datagen.flow_from_directory(\n",
        "    image_directory,\n",
        "    target_size=(224,224),\n",
        "    batch_size=32,\n",
        "    class_mode='binary',\n",
        "    subset='validation'\n",
        ")"
      ],
      "metadata": {
        "id": "72-9_nJzB4NS",
        "colab": {
          "base_uri": "https://localhost:8080/"
        },
        "outputId": "44eda077-675a-46e0-893c-e2445a622ff0"
      },
      "execution_count": null,
      "outputs": [
        {
          "output_type": "stream",
          "name": "stdout",
          "text": [
            "Found 665 images belonging to 2 classes.\n",
            "Found 166 images belonging to 2 classes.\n"
          ]
        }
      ]
    },
    {
      "cell_type": "markdown",
      "source": [
        "# **CNN model**"
      ],
      "metadata": {
        "id": "1JHxT-FHGVdU"
      }
    },
    {
      "cell_type": "code",
      "source": [
        "cnn_model=tf.keras.models.Sequential([\n",
        "    tf.keras.layers.Conv2D(64,(3,3),activation='relu',input_shape=(224,224,3)),\n",
        "    tf.keras.layers.MaxPooling2D(2,2),\n",
        "    tf.keras.layers.Conv2D(128,(3,3),activation='relu'),\n",
        "    tf.keras.layers.MaxPooling2D(2,2),\n",
        "    tf.keras.layers.Conv2D(256,(3,3),activation='relu'),\n",
        "    tf.keras.layers.MaxPooling2D(2,2),\n",
        "    tf.keras.layers.Conv2D(512,(3,3),activation='relu'),\n",
        "    tf.keras.layers.MaxPooling2D(2,2),\n",
        "    tf.keras.layers.Conv2D(512,(3,3),activation='relu'),\n",
        "    tf.keras.layers.MaxPooling2D(2,2),\n",
        "    tf.keras.layers.Flatten(),\n",
        "    tf.keras.layers.Dense(1000,activation='relu'),\n",
        "    tf.keras.layers.Dense(2,activation='softmax')\n",
        "\n",
        "])\n",
        "\n",
        "\n",
        "\n",
        "cnn_model.compile(\n",
        "    optimizer='sgd',\n",
        "    loss='sparse_categorical_crossentropy',\n",
        "    metrics=['accuracy']\n",
        ")\n",
        "\n",
        "\n",
        "cnn_model.fit(\n",
        "    train_generator,\n",
        "    steps_per_epoch=len(train_generator),\n",
        "    epochs=10,\n",
        "    validation_data=test_generator,\n",
        "    validation_steps=len(test_generator)\n",
        ")\n",
        "\n",
        "import matplotlib.pyplot as plt\n",
        "plt.plot(history.history['accuracy'])\n",
        "plt.plot(history.history['val_accuracy'])\n",
        "plt.title('Model Accuracy')\n",
        "plt.xlabel('Epoch')\n",
        "plt.ylabel('Accuracy')\n",
        "plt.legend(['Train','Test'],loc=\"upper left\")\n",
        "plt.show()\n",
        "\n",
        "\n",
        "plt.plot(history.history['loss'])\n",
        "plt.plot(history.history['val_loss'])\n",
        "plt.title('Model Loss')\n",
        "plt.xlabel('Epoch')\n",
        "plt.ylabel('Loss')\n",
        "plt.legend(['Train','Test'],loc=\"upper left\")\n",
        "plt.show()"
      ],
      "metadata": {
        "colab": {
          "base_uri": "https://localhost:8080/"
        },
        "id": "h3Afr3FjDKz0",
        "outputId": "e8f37de0-2909-4273-cb9a-9d7841313354"
      },
      "execution_count": null,
      "outputs": [
        {
          "output_type": "stream",
          "name": "stdout",
          "text": [
            "Epoch 1/10\n",
            "11/11 [==============================] - 156s 13s/step - loss: 0.6492 - accuracy: 0.7338 - val_loss: 0.5928 - val_accuracy: 0.7349\n",
            "Epoch 2/10\n",
            "11/11 [==============================] - 8s 748ms/step - loss: 0.6069 - accuracy: 0.7338 - val_loss: 0.5583 - val_accuracy: 0.7349\n",
            "Epoch 3/10\n",
            "11/11 [==============================] - 6s 498ms/step - loss: 0.5943 - accuracy: 0.7338 - val_loss: 0.5523 - val_accuracy: 0.7349\n",
            "Epoch 4/10\n",
            "11/11 [==============================] - 5s 472ms/step - loss: 0.5853 - accuracy: 0.7338 - val_loss: 0.5448 - val_accuracy: 0.7349\n",
            "Epoch 5/10\n",
            "11/11 [==============================] - 5s 420ms/step - loss: 0.5796 - accuracy: 0.7338 - val_loss: 0.5406 - val_accuracy: 0.7349\n",
            "Epoch 6/10\n",
            "11/11 [==============================] - 6s 495ms/step - loss: 0.5705 - accuracy: 0.7338 - val_loss: 0.5360 - val_accuracy: 0.7349\n",
            "Epoch 7/10\n",
            "11/11 [==============================] - 5s 426ms/step - loss: 0.5624 - accuracy: 0.7338 - val_loss: 0.5257 - val_accuracy: 0.7349\n",
            "Epoch 8/10\n",
            "11/11 [==============================] - 6s 499ms/step - loss: 0.5523 - accuracy: 0.7338 - val_loss: 0.5165 - val_accuracy: 0.7349\n",
            "Epoch 9/10\n",
            "11/11 [==============================] - 6s 527ms/step - loss: 0.5405 - accuracy: 0.7338 - val_loss: 0.5044 - val_accuracy: 0.7349\n",
            "Epoch 10/10\n",
            "11/11 [==============================] - 5s 467ms/step - loss: 0.5267 - accuracy: 0.7338 - val_loss: 0.4841 - val_accuracy: 0.7349\n"
          ]
        },
        {
          "output_type": "execute_result",
          "data": {
            "text/plain": [
              "<keras.src.callbacks.History at 0x7a3630def5e0>"
            ]
          },
          "metadata": {},
          "execution_count": 4
        }
      ]
    },
    {
      "cell_type": "code",
      "source": [
        "from sklearn.metrics import accuracy_score, precision_score, roc_auc_score\n",
        "\n",
        "# Evaluate the model on the test set\n",
        "cnn_model.evaluate(test_generator)\n",
        "\n",
        "# Get predictions for the test set\n",
        "cnn_predictions = cnn_model.predict(test_generator)\n",
        "\n",
        "# Convert softmax predictions to class labels\n",
        "cnn_predictions_classes = np.argmax(cnn_predictions, axis=1)\n",
        "\n",
        "# Get true class labels\n",
        "true_labels = test_generator.classes\n",
        "\n",
        "# Evaluate precision\n",
        "cnn_precision = precision_score(true_labels, cnn_predictions_classes, average='weighted')\n",
        "print(\"CNN Precision:\", cnn_precision)\n",
        "\n",
        "# Evaluate AUC-ROC\n",
        "cnn_auc_roc = roc_auc_score(true_labels, cnn_predictions[:, 1], average='weighted')\n",
        "print(\"CNN AUC-ROC:\", cnn_auc_roc)"
      ],
      "metadata": {
        "colab": {
          "base_uri": "https://localhost:8080/"
        },
        "id": "RxlXxkDH-5oU",
        "outputId": "bc2bd81b-a9a4-4808-a91e-402514883618"
      },
      "execution_count": null,
      "outputs": [
        {
          "output_type": "stream",
          "name": "stdout",
          "text": [
            "6/6 [==============================] - 2s 182ms/step - loss: 0.4841 - accuracy: 0.7349\n",
            "6/6 [==============================] - 1s 137ms/step\n",
            "CNN Precision: 0.5401364494121063\n",
            "CNN AUC-ROC: 0.5031669150521609\n"
          ]
        },
        {
          "output_type": "stream",
          "name": "stderr",
          "text": [
            "/usr/local/lib/python3.10/dist-packages/sklearn/metrics/_classification.py:1344: UndefinedMetricWarning: Precision is ill-defined and being set to 0.0 in labels with no predicted samples. Use `zero_division` parameter to control this behavior.\n",
            "  _warn_prf(average, modifier, msg_start, len(result))\n"
          ]
        }
      ]
    },
    {
      "cell_type": "markdown",
      "source": [
        "# **SVM model**"
      ],
      "metadata": {
        "id": "7lORBk9XGXpO"
      }
    },
    {
      "cell_type": "code",
      "source": [
        "from sklearn import svm\n",
        "from sklearn.metrics import accuracy_score, precision_score, roc_auc_score\n",
        "\n",
        "# Assuming train_generator and test_generator are instances of ImageDataGenerator\n",
        "\n",
        "# Get the number of samples in the training and testing sets\n",
        "num_train_samples = len(train_generator.filenames)\n",
        "num_test_samples = len(test_generator.filenames)\n",
        "\n",
        "# Flatten the images for SVM\n",
        "train_data_svm = cnn_model.predict(train_generator)\n",
        "train_data_svm = train_data_svm.reshape(num_train_samples, -1)\n",
        "\n",
        "test_data_svm = cnn_model.predict(test_generator)\n",
        "test_data_svm = test_data_svm.reshape(num_test_samples, -1)\n",
        "\n",
        "# SVM model\n",
        "svm_model = svm.SVC()\n",
        "svm_model.fit(train_data_svm, train_generator.classes)\n",
        "\n",
        "# Predictions\n",
        "svm_predictions = svm_model.predict(test_data_svm)\n",
        "\n",
        "# Evaluate accuracy\n",
        "svm_accuracy = accuracy_score(test_generator.classes, svm_predictions)\n",
        "print(\"SVM Accuracy:\", svm_accuracy)\n",
        "\n",
        "# Evaluate precision\n",
        "svm_precision = precision_score(test_generator.classes, svm_predictions, zero_division=1)\n",
        "print(\"SVM Precision:\", svm_precision)\n",
        "\n",
        "# Evaluate AUC-ROC\n",
        "svm_auc_roc = roc_auc_score(test_generator.classes, svm_predictions)\n",
        "print(\"SVM AUC-ROC:\", svm_auc_roc)"
      ],
      "metadata": {
        "colab": {
          "base_uri": "https://localhost:8080/"
        },
        "id": "p6TX8O41raOh",
        "outputId": "b39ae883-fbd7-405a-f1b7-082c495b42b3"
      },
      "execution_count": null,
      "outputs": [
        {
          "output_type": "stream",
          "name": "stdout",
          "text": [
            "11/11 [==============================] - 4s 322ms/step\n",
            "6/6 [==============================] - 1s 141ms/step\n",
            "SVM Accuracy: 0.7349397590361446\n",
            "SVM Precision: 1.0\n",
            "SVM AUC-ROC: 0.5\n"
          ]
        }
      ]
    },
    {
      "cell_type": "markdown",
      "source": [
        "# **Logistic Regression model**"
      ],
      "metadata": {
        "id": "6QO_WJz-E5Vy"
      }
    },
    {
      "cell_type": "code",
      "source": [
        "from sklearn.linear_model import LogisticRegression\n",
        "\n",
        "# Flatten the images for Logistic Regression\n",
        "train_data_lr = cnn_model.predict(train_generator)\n",
        "train_data_lr = train_data_lr.reshape(num_train_samples, -1)\n",
        "\n",
        "test_data_lr = cnn_model.predict(test_generator)\n",
        "test_data_lr = test_data_lr.reshape(num_test_samples, -1)\n",
        "\n",
        "# Logistic Regression model\n",
        "lr_model = LogisticRegression()\n",
        "lr_model.fit(train_data_lr, train_generator.classes)\n",
        "\n",
        "# Predictions\n",
        "lr_predictions = lr_model.predict(test_data_lr)\n",
        "\n",
        "# Evaluate accuracy\n",
        "lr_accuracy = accuracy_score(test_generator.classes, lr_predictions)\n",
        "print(\"Logistic Regression Accuracy:\", lr_accuracy)\n",
        "\n",
        "# Evaluate precision\n",
        "lr_precision = precision_score(test_generator.classes, lr_predictions, zero_division=1)\n",
        "print(\"Logistic Regression Precision:\", lr_precision)\n",
        "\n",
        "# Evaluate AUC-ROC\n",
        "lr_auc_roc = roc_auc_score(test_generator.classes, lr_model.predict_proba(test_data_lr)[:, 1])\n",
        "print(\"Logistic Regression AUC-ROC:\", lr_auc_roc)"
      ],
      "metadata": {
        "colab": {
          "base_uri": "https://localhost:8080/"
        },
        "id": "u2kInT7sE98E",
        "outputId": "7cc0ce3c-3163-4a95-cbc3-e96fd33724ac"
      },
      "execution_count": null,
      "outputs": [
        {
          "output_type": "stream",
          "name": "stdout",
          "text": [
            "11/11 [==============================] - 6s 549ms/step\n",
            "6/6 [==============================] - 1s 131ms/step\n",
            "Logistic Regression Accuracy: 0.7349397590361446\n",
            "Logistic Regression Precision: 1.0\n",
            "Logistic Regression AUC-ROC: 0.569672131147541\n"
          ]
        }
      ]
    },
    {
      "cell_type": "markdown",
      "source": [
        "# **RNN model**"
      ],
      "metadata": {
        "id": "-W4--hVeFvoQ"
      }
    },
    {
      "cell_type": "code",
      "source": [
        "import tensorflow as tf\n",
        "from tensorflow.keras.models import Sequential\n",
        "from tensorflow.keras.layers import SimpleRNN, Dense, TimeDistributed, Flatten\n",
        "from tensorflow.keras.optimizers import SGD\n",
        "from tensorflow.keras.preprocessing.image import ImageDataGenerator\n",
        "from tensorflow.keras.preprocessing.sequence import TimeseriesGenerator\n",
        "\n",
        "# Assuming train_generator and test_generator are instances of ImageDataGenerator\n",
        "\n",
        "# Reshape data into sequences\n",
        "sequence_length = 10  # Choose an appropriate length for your sequences\n",
        "train_sequence_generator = TimeseriesGenerator(\n",
        "    train_generator[0][0],  # Input data (images) from train_generator\n",
        "    train_generator[0][1],  # Target data (labels) from train_generator\n",
        "    length=sequence_length,\n",
        "    batch_size=64\n",
        ")\n",
        "\n",
        "test_sequence_generator = TimeseriesGenerator(\n",
        "    test_generator[0][0],  # Input data (images) from test_generator\n",
        "    test_generator[0][1],  # Target data (labels) from test_generator\n",
        "    length=sequence_length,\n",
        "    batch_size=32\n",
        ")\n",
        "\n",
        "# Build the RNN model\n",
        "rnn_model = Sequential([\n",
        "    TimeDistributed(Flatten(input_shape=(224, 224, 3))),  # Flatten each image in the sequence\n",
        "    SimpleRNN(64, activation='relu', input_shape=(sequence_length, 224*224*3)),\n",
        "    Dense(2, activation='softmax')\n",
        "])\n",
        "\n",
        "# Compile the model\n",
        "rnn_model.compile(optimizer=SGD(lr=0.01), loss='sparse_categorical_crossentropy', metrics=['accuracy'])\n",
        "\n",
        "# Train the model\n",
        "rnn_model.fit(train_sequence_generator, epochs=10, validation_data=test_sequence_generator)\n",
        "\n",
        "# Evaluate the model\n",
        "rnn_loss, rnn_accuracy = rnn_model.evaluate(test_sequence_generator)\n",
        "print(\"RNN Accuracy:\", rnn_accuracy)"
      ],
      "metadata": {
        "colab": {
          "base_uri": "https://localhost:8080/"
        },
        "id": "j9PMetQeFyFn",
        "outputId": "7865f609-7c5d-4b6d-cfe8-394fa020c1a1"
      },
      "execution_count": null,
      "outputs": [
        {
          "output_type": "stream",
          "name": "stderr",
          "text": [
            "WARNING:absl:`lr` is deprecated in Keras optimizer, please use `learning_rate` or use the legacy optimizer, e.g.,tf.keras.optimizers.legacy.SGD.\n"
          ]
        },
        {
          "output_type": "stream",
          "name": "stdout",
          "text": [
            "Epoch 1/10\n",
            "1/1 [==============================] - 3s 3s/step - loss: 0.5270 - accuracy: 0.8148 - val_loss: 4.0324 - val_accuracy: 0.8636\n",
            "Epoch 2/10\n",
            "1/1 [==============================] - 1s 931ms/step - loss: 2.3998 - accuracy: 0.8333 - val_loss: 0.8213 - val_accuracy: 0.5909\n",
            "Epoch 3/10\n",
            "1/1 [==============================] - 1s 1s/step - loss: 0.5988 - accuracy: 0.7407 - val_loss: 0.8636 - val_accuracy: 0.8636\n",
            "Epoch 4/10\n",
            "1/1 [==============================] - 1s 1s/step - loss: 0.4945 - accuracy: 0.8333 - val_loss: 0.5459 - val_accuracy: 0.8636\n",
            "Epoch 5/10\n",
            "1/1 [==============================] - 1s 940ms/step - loss: 0.4963 - accuracy: 0.9259 - val_loss: 1.2748 - val_accuracy: 0.8636\n",
            "Epoch 6/10\n",
            "1/1 [==============================] - 1s 835ms/step - loss: 0.5723 - accuracy: 0.8333 - val_loss: 0.7356 - val_accuracy: 0.8636\n",
            "Epoch 7/10\n",
            "1/1 [==============================] - 1s 949ms/step - loss: 0.3438 - accuracy: 0.8889 - val_loss: 0.7176 - val_accuracy: 0.8636\n",
            "Epoch 8/10\n",
            "1/1 [==============================] - 1s 926ms/step - loss: 0.3184 - accuracy: 0.8889 - val_loss: 0.8034 - val_accuracy: 0.8636\n",
            "Epoch 9/10\n",
            "1/1 [==============================] - 1s 961ms/step - loss: 0.2979 - accuracy: 0.8704 - val_loss: 0.7245 - val_accuracy: 0.8636\n",
            "Epoch 10/10\n",
            "1/1 [==============================] - 1s 783ms/step - loss: 0.2833 - accuracy: 0.9074 - val_loss: 0.8916 - val_accuracy: 0.8636\n",
            "1/1 [==============================] - 0s 248ms/step - loss: 0.8916 - accuracy: 0.8636\n",
            "RNN Accuracy: 0.8636363744735718\n"
          ]
        }
      ]
    },
    {
      "cell_type": "code",
      "source": [
        "from sklearn.metrics import precision_score, roc_auc_score\n",
        "\n",
        "# Assuming test_sequence_generator is an instance of TimeseriesGenerator\n",
        "\n",
        "# Get true class labels\n",
        "true_labels = test_sequence_generator.targets\n",
        "\n",
        "# Get predictions for the test set\n",
        "rnn_predictions = rnn_model.predict(test_sequence_generator)\n",
        "\n",
        "# Convert softmax predictions to class labels\n",
        "rnn_predictions_classes = np.argmax(rnn_predictions, axis=1)\n",
        "\n",
        "# Evaluate precision\n",
        "rnn_precision = precision_score(true_labels, rnn_predictions_classes, average='weighted')\n",
        "print(\"RNN Precision:\", rnn_precision)\n",
        "\n",
        "# Evaluate AUC-ROC\n",
        "rnn_auc_roc = roc_auc_score(true_labels, rnn_predictions[:, 1], average='weighted')\n",
        "print(\"RNN AUC-ROC:\", rnn_auc_roc)"
      ],
      "metadata": {
        "colab": {
          "base_uri": "https://localhost:8080/",
          "height": 407
        },
        "id": "KKDrb-5wGWg6",
        "outputId": "46c74ed1-d8e5-422b-de93-7b7b6e9e175a"
      },
      "execution_count": null,
      "outputs": [
        {
          "output_type": "stream",
          "name": "stdout",
          "text": [
            "1/1 [==============================] - 0s 457ms/step\n"
          ]
        },
        {
          "output_type": "error",
          "ename": "ValueError",
          "evalue": "Found input variables with inconsistent numbers of samples: [32, 22]",
          "traceback": [
            "\u001b[0;31m---------------------------------------------------------------------------\u001b[0m",
            "\u001b[0;31mValueError\u001b[0m                                Traceback (most recent call last)",
            "\u001b[0;32m<ipython-input-15-e57886d29603>\u001b[0m in \u001b[0;36m<cell line: 15>\u001b[0;34m()\u001b[0m\n\u001b[1;32m     13\u001b[0m \u001b[0;34m\u001b[0m\u001b[0m\n\u001b[1;32m     14\u001b[0m \u001b[0;31m# Evaluate precision\u001b[0m\u001b[0;34m\u001b[0m\u001b[0;34m\u001b[0m\u001b[0m\n\u001b[0;32m---> 15\u001b[0;31m \u001b[0mrnn_precision\u001b[0m \u001b[0;34m=\u001b[0m \u001b[0mprecision_score\u001b[0m\u001b[0;34m(\u001b[0m\u001b[0mtrue_labels\u001b[0m\u001b[0;34m,\u001b[0m \u001b[0mrnn_predictions_classes\u001b[0m\u001b[0;34m,\u001b[0m \u001b[0maverage\u001b[0m\u001b[0;34m=\u001b[0m\u001b[0;34m'weighted'\u001b[0m\u001b[0;34m)\u001b[0m\u001b[0;34m\u001b[0m\u001b[0;34m\u001b[0m\u001b[0m\n\u001b[0m\u001b[1;32m     16\u001b[0m \u001b[0mprint\u001b[0m\u001b[0;34m(\u001b[0m\u001b[0;34m\"RNN Precision:\"\u001b[0m\u001b[0;34m,\u001b[0m \u001b[0mrnn_precision\u001b[0m\u001b[0;34m)\u001b[0m\u001b[0;34m\u001b[0m\u001b[0;34m\u001b[0m\u001b[0m\n\u001b[1;32m     17\u001b[0m \u001b[0;34m\u001b[0m\u001b[0m\n",
            "\u001b[0;32m/usr/local/lib/python3.10/dist-packages/sklearn/metrics/_classification.py\u001b[0m in \u001b[0;36mprecision_score\u001b[0;34m(y_true, y_pred, labels, pos_label, average, sample_weight, zero_division)\u001b[0m\n\u001b[1;32m   1952\u001b[0m     \u001b[0marray\u001b[0m\u001b[0;34m(\u001b[0m\u001b[0;34m[\u001b[0m\u001b[0;36m0.5\u001b[0m\u001b[0;34m,\u001b[0m \u001b[0;36m1.\u001b[0m \u001b[0;34m,\u001b[0m \u001b[0;36m1.\u001b[0m \u001b[0;34m]\u001b[0m\u001b[0;34m)\u001b[0m\u001b[0;34m\u001b[0m\u001b[0;34m\u001b[0m\u001b[0m\n\u001b[1;32m   1953\u001b[0m     \"\"\"\n\u001b[0;32m-> 1954\u001b[0;31m     p, _, _, _ = precision_recall_fscore_support(\n\u001b[0m\u001b[1;32m   1955\u001b[0m         \u001b[0my_true\u001b[0m\u001b[0;34m,\u001b[0m\u001b[0;34m\u001b[0m\u001b[0;34m\u001b[0m\u001b[0m\n\u001b[1;32m   1956\u001b[0m         \u001b[0my_pred\u001b[0m\u001b[0;34m,\u001b[0m\u001b[0;34m\u001b[0m\u001b[0;34m\u001b[0m\u001b[0m\n",
            "\u001b[0;32m/usr/local/lib/python3.10/dist-packages/sklearn/metrics/_classification.py\u001b[0m in \u001b[0;36mprecision_recall_fscore_support\u001b[0;34m(y_true, y_pred, beta, labels, pos_label, average, warn_for, sample_weight, zero_division)\u001b[0m\n\u001b[1;32m   1571\u001b[0m     \u001b[0;32mif\u001b[0m \u001b[0mbeta\u001b[0m \u001b[0;34m<\u001b[0m \u001b[0;36m0\u001b[0m\u001b[0;34m:\u001b[0m\u001b[0;34m\u001b[0m\u001b[0;34m\u001b[0m\u001b[0m\n\u001b[1;32m   1572\u001b[0m         \u001b[0;32mraise\u001b[0m \u001b[0mValueError\u001b[0m\u001b[0;34m(\u001b[0m\u001b[0;34m\"beta should be >=0 in the F-beta score\"\u001b[0m\u001b[0;34m)\u001b[0m\u001b[0;34m\u001b[0m\u001b[0;34m\u001b[0m\u001b[0m\n\u001b[0;32m-> 1573\u001b[0;31m     \u001b[0mlabels\u001b[0m \u001b[0;34m=\u001b[0m \u001b[0m_check_set_wise_labels\u001b[0m\u001b[0;34m(\u001b[0m\u001b[0my_true\u001b[0m\u001b[0;34m,\u001b[0m \u001b[0my_pred\u001b[0m\u001b[0;34m,\u001b[0m \u001b[0maverage\u001b[0m\u001b[0;34m,\u001b[0m \u001b[0mlabels\u001b[0m\u001b[0;34m,\u001b[0m \u001b[0mpos_label\u001b[0m\u001b[0;34m)\u001b[0m\u001b[0;34m\u001b[0m\u001b[0;34m\u001b[0m\u001b[0m\n\u001b[0m\u001b[1;32m   1574\u001b[0m \u001b[0;34m\u001b[0m\u001b[0m\n\u001b[1;32m   1575\u001b[0m     \u001b[0;31m# Calculate tp_sum, pred_sum, true_sum ###\u001b[0m\u001b[0;34m\u001b[0m\u001b[0;34m\u001b[0m\u001b[0m\n",
            "\u001b[0;32m/usr/local/lib/python3.10/dist-packages/sklearn/metrics/_classification.py\u001b[0m in \u001b[0;36m_check_set_wise_labels\u001b[0;34m(y_true, y_pred, average, labels, pos_label)\u001b[0m\n\u001b[1;32m   1372\u001b[0m         \u001b[0;32mraise\u001b[0m \u001b[0mValueError\u001b[0m\u001b[0;34m(\u001b[0m\u001b[0;34m\"average has to be one of \"\u001b[0m \u001b[0;34m+\u001b[0m \u001b[0mstr\u001b[0m\u001b[0;34m(\u001b[0m\u001b[0maverage_options\u001b[0m\u001b[0;34m)\u001b[0m\u001b[0;34m)\u001b[0m\u001b[0;34m\u001b[0m\u001b[0;34m\u001b[0m\u001b[0m\n\u001b[1;32m   1373\u001b[0m \u001b[0;34m\u001b[0m\u001b[0m\n\u001b[0;32m-> 1374\u001b[0;31m     \u001b[0my_type\u001b[0m\u001b[0;34m,\u001b[0m \u001b[0my_true\u001b[0m\u001b[0;34m,\u001b[0m \u001b[0my_pred\u001b[0m \u001b[0;34m=\u001b[0m \u001b[0m_check_targets\u001b[0m\u001b[0;34m(\u001b[0m\u001b[0my_true\u001b[0m\u001b[0;34m,\u001b[0m \u001b[0my_pred\u001b[0m\u001b[0;34m)\u001b[0m\u001b[0;34m\u001b[0m\u001b[0;34m\u001b[0m\u001b[0m\n\u001b[0m\u001b[1;32m   1375\u001b[0m     \u001b[0;31m# Convert to Python primitive type to avoid NumPy type / Python str\u001b[0m\u001b[0;34m\u001b[0m\u001b[0;34m\u001b[0m\u001b[0m\n\u001b[1;32m   1376\u001b[0m     \u001b[0;31m# comparison. See https://github.com/numpy/numpy/issues/6784\u001b[0m\u001b[0;34m\u001b[0m\u001b[0;34m\u001b[0m\u001b[0m\n",
            "\u001b[0;32m/usr/local/lib/python3.10/dist-packages/sklearn/metrics/_classification.py\u001b[0m in \u001b[0;36m_check_targets\u001b[0;34m(y_true, y_pred)\u001b[0m\n\u001b[1;32m     84\u001b[0m     \u001b[0my_pred\u001b[0m \u001b[0;34m:\u001b[0m \u001b[0marray\u001b[0m \u001b[0;32mor\u001b[0m \u001b[0mindicator\u001b[0m \u001b[0mmatrix\u001b[0m\u001b[0;34m\u001b[0m\u001b[0;34m\u001b[0m\u001b[0m\n\u001b[1;32m     85\u001b[0m     \"\"\"\n\u001b[0;32m---> 86\u001b[0;31m     \u001b[0mcheck_consistent_length\u001b[0m\u001b[0;34m(\u001b[0m\u001b[0my_true\u001b[0m\u001b[0;34m,\u001b[0m \u001b[0my_pred\u001b[0m\u001b[0;34m)\u001b[0m\u001b[0;34m\u001b[0m\u001b[0;34m\u001b[0m\u001b[0m\n\u001b[0m\u001b[1;32m     87\u001b[0m     \u001b[0mtype_true\u001b[0m \u001b[0;34m=\u001b[0m \u001b[0mtype_of_target\u001b[0m\u001b[0;34m(\u001b[0m\u001b[0my_true\u001b[0m\u001b[0;34m,\u001b[0m \u001b[0minput_name\u001b[0m\u001b[0;34m=\u001b[0m\u001b[0;34m\"y_true\"\u001b[0m\u001b[0;34m)\u001b[0m\u001b[0;34m\u001b[0m\u001b[0;34m\u001b[0m\u001b[0m\n\u001b[1;32m     88\u001b[0m     \u001b[0mtype_pred\u001b[0m \u001b[0;34m=\u001b[0m \u001b[0mtype_of_target\u001b[0m\u001b[0;34m(\u001b[0m\u001b[0my_pred\u001b[0m\u001b[0;34m,\u001b[0m \u001b[0minput_name\u001b[0m\u001b[0;34m=\u001b[0m\u001b[0;34m\"y_pred\"\u001b[0m\u001b[0;34m)\u001b[0m\u001b[0;34m\u001b[0m\u001b[0;34m\u001b[0m\u001b[0m\n",
            "\u001b[0;32m/usr/local/lib/python3.10/dist-packages/sklearn/utils/validation.py\u001b[0m in \u001b[0;36mcheck_consistent_length\u001b[0;34m(*arrays)\u001b[0m\n\u001b[1;32m    395\u001b[0m     \u001b[0muniques\u001b[0m \u001b[0;34m=\u001b[0m \u001b[0mnp\u001b[0m\u001b[0;34m.\u001b[0m\u001b[0munique\u001b[0m\u001b[0;34m(\u001b[0m\u001b[0mlengths\u001b[0m\u001b[0;34m)\u001b[0m\u001b[0;34m\u001b[0m\u001b[0;34m\u001b[0m\u001b[0m\n\u001b[1;32m    396\u001b[0m     \u001b[0;32mif\u001b[0m \u001b[0mlen\u001b[0m\u001b[0;34m(\u001b[0m\u001b[0muniques\u001b[0m\u001b[0;34m)\u001b[0m \u001b[0;34m>\u001b[0m \u001b[0;36m1\u001b[0m\u001b[0;34m:\u001b[0m\u001b[0;34m\u001b[0m\u001b[0;34m\u001b[0m\u001b[0m\n\u001b[0;32m--> 397\u001b[0;31m         raise ValueError(\n\u001b[0m\u001b[1;32m    398\u001b[0m             \u001b[0;34m\"Found input variables with inconsistent numbers of samples: %r\"\u001b[0m\u001b[0;34m\u001b[0m\u001b[0;34m\u001b[0m\u001b[0m\n\u001b[1;32m    399\u001b[0m             \u001b[0;34m%\u001b[0m \u001b[0;34m[\u001b[0m\u001b[0mint\u001b[0m\u001b[0;34m(\u001b[0m\u001b[0ml\u001b[0m\u001b[0;34m)\u001b[0m \u001b[0;32mfor\u001b[0m \u001b[0ml\u001b[0m \u001b[0;32min\u001b[0m \u001b[0mlengths\u001b[0m\u001b[0;34m]\u001b[0m\u001b[0;34m\u001b[0m\u001b[0;34m\u001b[0m\u001b[0m\n",
            "\u001b[0;31mValueError\u001b[0m: Found input variables with inconsistent numbers of samples: [32, 22]"
          ]
        }
      ]
    }
  ]
}